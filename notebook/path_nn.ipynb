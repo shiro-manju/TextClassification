{
 "cells": [
  {
   "cell_type": "code",
   "execution_count": 2,
   "metadata": {},
   "outputs": [],
   "source": [
    "import pandas as pd\n",
    "import glob\n",
    "import collections\n",
    "import seaborn as sns\n",
    "import matplotlib.pyplot as plt\n",
    "import japanize_matplotlib\n",
    "import pickle as pkl\n",
    "import numpy as np\n",
    "import pprint\n",
    "import re\n",
    "from tqdm import tqdm\n"
   ]
  },
  {
   "cell_type": "code",
   "execution_count": 3,
   "metadata": {},
   "outputs": [
    {
     "name": "stderr",
     "output_type": "stream",
     "text": [
      "/var/folders/rp/bwxtsw2d1kg3s67q9jnsnly52sglqb/T/ipykernel_30855/2668232990.py:3: DtypeWarning: Columns (24,25,26,27,28,29,30,31,32,33,34,35,36,37,38) have mixed types. Specify dtype option on import or set low_memory=False.\n",
      "  return pd.read_csv(ptn_paths, skiprows=1)\n"
     ]
    },
    {
     "name": "stdout",
     "output_type": "stream",
     "text": [
      "class: AQ定義, データ数:37\n",
      "class: IF定義, データ数:4\n",
      "class: DBテーブル, データ数:11\n",
      "class: メッセージ一覧, データ数:5\n",
      "class: CSVレイアウト(画面), データ数:5\n",
      "class: 電文レイアウト, データ数:6\n",
      "class: 画面, データ数:231\n",
      "class: 画面遷移図, データ数:24\n",
      "class: 帳票レイアウト, データ数:8\n",
      "class: CRUD図, データ数:6\n",
      "class: プログラム設計, データ数:1911\n",
      "class: 画面レイアウト, データ数:80\n",
      "class: 千手定義, データ数:52\n",
      "Total: 2535\n"
     ]
    }
   ],
   "source": [
    "def ptn_label_load():\n",
    "    ptn_paths = \"PTN共有_保振ホール決済/NPL-68_設計書種別ラベリング_試験用ラベル追加.csv\"\n",
    "    return pd.read_csv(ptn_paths, skiprows=1)\n",
    "\n",
    "ptn_df = ptn_label_load()\n",
    "use_category = \"設計書種別(試験用)\" # \"設計書種別\" or \"設計書種別(再整理)\" or \"設計書種別(試験用)\"\n",
    "ptn_df = ptn_df[(ptn_df[use_category].notna())]\n",
    "len(ptn_df)\n",
    "\n",
    "def convert_df(x):\n",
    "    label = x[use_category]\n",
    "    path = \"/\".join(x[\"ALL\"].split(\"/\")[6:])+x[\"title\"]\n",
    "    return (label, path)\n",
    "\n",
    "data_list = ptn_df.apply(convert_df, axis=1).tolist()\n",
    "\n",
    "data_dict = {}\n",
    "for data in data_list:\n",
    "    if data[0] in data_dict.keys():\n",
    "        data_dict[data[0]].append(data[1])\n",
    "    else:\n",
    "        data_dict[data[0]] = [data[1]]\n",
    "del data_dict[\"nolabel\"]\n",
    "# del data_dict[\"画面(JavaScript)\"]\n",
    "[print(f\"class: {key}, データ数:{len(data_dict[key])}\") for key in data_dict.keys()]\n",
    "print(f\"Total: {len(data_list)}\")"
   ]
  },
  {
   "cell_type": "markdown",
   "metadata": {},
   "source": [
    "## Tokenize"
   ]
  },
  {
   "cell_type": "code",
   "execution_count": 5,
   "metadata": {},
   "outputs": [],
   "source": [
    "import mojimoji\n",
    "import MeCab\n",
    "m = MeCab.Tagger(\"-Owakati\")\n",
    "\n",
    "from transformers import AutoTokenizer, AutoModelForPreTraining, AutoModelForSequenceClassification\n",
    "tokenizer = AutoTokenizer.from_pretrained(\"izumi-lab/electra-base-japanese-discriminator\")\n"
   ]
  },
  {
   "cell_type": "code",
   "execution_count": 25,
   "metadata": {},
   "outputs": [],
   "source": [
    "def normalize_text(text):\n",
    "    result = mojimoji.han_to_zen(text)\n",
    "    result = mojimoji.zen_to_han(result, kana=False)\n",
    "    result.translate(str.maketrans({chr(0xFF01 + i): chr(0x21 + i) for i in range(94)}))\n",
    "    return result\n",
    "\n",
    "def text_to_words(text):\n",
    "    #text = normalize_text(text)\n",
    "    m_text = tokenizer.tokenize(text)\n",
    "    return m_text\n",
    "\n",
    "\n",
    "def text_to_phrase(text):\n",
    "    return \" \".join(text.split(\"/\"))\n",
    "\n"
   ]
  },
  {
   "cell_type": "code",
   "execution_count": 47,
   "metadata": {},
   "outputs": [
    {
     "name": "stdout",
     "output_type": "stream",
     "text": [
      "{1: 'AQ定義', 2: 'IF定義', 3: 'DBテーブル', 4: 'メッセージ一覧', 5: 'CSVレイアウト(画面)', 6: '電文レイアウト', 7: '画面', 8: '画面遷移図', 9: '帳票レイアウト', 10: 'CRUD図', 11: 'プログラム設計', 12: '画面レイアウト', 13: '千手定義'}\n"
     ]
    },
    {
     "data": {
      "text/plain": [
       "[1, 1, 1, 1, 1, 1, 1, 1, 1, 1, 1, 1, 1, 1, 1, 1, 1, 1, 1, 1]"
      ]
     },
     "execution_count": 47,
     "metadata": {},
     "output_type": "execute_result"
    }
   ],
   "source": [
    "corpus_words = []\n",
    "corpus_phrase = []\n",
    "corpus_origin = []\n",
    "target_label = []\n",
    "\n",
    "label_dic = {}\n",
    "label2idx = {}\n",
    "for ind, label in enumerate(data_dict.keys()):\n",
    "    label_dic[ind+1] = label\n",
    "    label2idx[label] = ind+1\n",
    "\n",
    "\n",
    "for key in data_dict.keys():\n",
    "    for item in data_dict[key]:\n",
    "        text = normalize_text(item)\n",
    "        # corpus_words.append(text_to_words(text))\n",
    "        # corpus_phrase.append(text_to_phrase(text))\n",
    "        corpus_origin.append(text)\n",
    "        target_label.append(label2idx[key])\n",
    "\n",
    "\n",
    "\n",
    "print(label_dic)\n",
    "target_label[:20]"
   ]
  },
  {
   "cell_type": "code",
   "execution_count": 48,
   "metadata": {},
   "outputs": [
    {
     "name": "stderr",
     "output_type": "stream",
     "text": [
      "0it [00:00, ?it/s]"
     ]
    },
    {
     "name": "stdout",
     "output_type": "stream",
     "text": [
      "0\n"
     ]
    },
    {
     "name": "stderr",
     "output_type": "stream",
     "text": [
      "\n"
     ]
    }
   ],
   "source": [
    "# 未知後の検出\n",
    "unk_flag = False\n",
    "unk_words = []\n",
    "for ind in tqdm(range(len(corpus_words))):\n",
    "    sub_words = corpus_words[ind]\n",
    "    origin_words = corpus_phrase[ind]\n",
    "    for subw in sub_words:\n",
    "        if subw in origin_words:\n",
    "            if unk_flag:\n",
    "                unk_word = origin_words.split(subw, 1)[0]\n",
    "                origin_words = origin_words.split(subw, 1)[-1]\n",
    "                unk_words.append(unk_word)\n",
    "            else:\n",
    "                origin_words = origin_words.split(subw, 1)[-1]\n",
    "            \n",
    "        elif \"#\" in subw:\n",
    "            subw_ = re.sub(\"#\", \"\", subw)\n",
    "            origin_words = origin_words.split(subw_, 1)[-1]\n",
    "        elif \"[UNK]\" == subw:\n",
    "            unk_flag = True\n",
    "\n",
    "unk_words = list(set(unk_words))\n",
    "\n",
    "print(len(unk_words))\n",
    "for x in unk_words:\n",
    "    print(x)\n"
   ]
  },
  {
   "cell_type": "code",
   "execution_count": 49,
   "metadata": {},
   "outputs": [
    {
     "name": "stderr",
     "output_type": "stream",
     "text": [
      "Some weights of the model checkpoint at izumi-lab/electra-base-japanese-discriminator were not used when initializing ElectraForSequenceClassification: ['discriminator_predictions.dense.weight', 'discriminator_predictions.dense_prediction.bias', 'discriminator_predictions.dense.bias', 'discriminator_predictions.dense_prediction.weight']\n",
      "- This IS expected if you are initializing ElectraForSequenceClassification from the checkpoint of a model trained on another task or with another architecture (e.g. initializing a BertForSequenceClassification model from a BertForPreTraining model).\n",
      "- This IS NOT expected if you are initializing ElectraForSequenceClassification from the checkpoint of a model that you expect to be exactly identical (initializing a BertForSequenceClassification model from a BertForSequenceClassification model).\n",
      "Some weights of ElectraForSequenceClassification were not initialized from the model checkpoint at izumi-lab/electra-base-japanese-discriminator and are newly initialized: ['classifier.out_proj.weight', 'classifier.out_proj.bias', 'classifier.dense.bias', 'classifier.dense.weight']\n",
      "You should probably TRAIN this model on a down-stream task to be able to use it for predictions and inference.\n"
     ]
    }
   ],
   "source": [
    "tokenizer = AutoTokenizer.from_pretrained(\"izumi-lab/electra-base-japanese-discriminator\")\n",
    "model = AutoModelForSequenceClassification.from_pretrained(\"izumi-lab/electra-base-japanese-discriminator\", num_labels=13)"
   ]
  },
  {
   "cell_type": "code",
   "execution_count": 51,
   "metadata": {},
   "outputs": [
    {
     "name": "stdout",
     "output_type": "stream",
     "text": [
      "CRUD図:310_[ST]ホール決済/030 外部設計/020 インターフェース関連/01_AQ・IFレイアウト/01_AQ関連/01_STAR内部/02_受信/AQ_003_国内株式約定済連絡データ(WADKGV00/WADSGV00/WADKGV20).xls\n",
      "CRUD図:310_[ST]ホール決済/030 外部設計/020.インターフェース関連/01_AQ・IFレイアウト/01_AQ関連/01_STAR内部/02_受信/(ST)(WAF)001_WAFYIK00_外国株式約定データ.xlsx\n",
      "CRUD図:310_[ST]ホール決済/030 外部設計/020.インターフェース関連/01_AQ・IFレイアウト/01_AQ関連/01_STAR内部/02_受信/(ST)(WAF)003_WAFYIT00_外国投信約定データ.xlsx\n",
      "CRUD図:310_[ST]ホール決済/030 外部設計/020.インターフェース関連/01_AQ・IFレイアウト/01_AQ関連/01_STAR内部/02_受信/(ST)(WAF)004_WAFGIK00_外国株式約定済連絡データ.xls\n",
      "CRUD図:310_[ST]ホール決済/030 外部設計/020.インターフェース関連/01_AQ・IFレイアウト/01_AQ関連/01_STAR内部/02_受信/(ST)(WAF)007_WAFDIK00_外国株式出来連絡データ.xls\n"
     ]
    }
   ],
   "source": [
    "model.eval()\n",
    "with torch.no_grad():\n",
    "    for words in corpus_origin[:5]:\n",
    "        text = \"\".join(words)\n",
    "        inputs = tokenizer.encode(text, return_tensors=\"pt\",padding=True, truncation=True)\n",
    "        outputs = model(inputs)\n",
    "        logits = outputs.logits\n",
    "        print(f\"{label_dic[logits.argmax(1).item()]}:{text}\")"
   ]
  },
  {
   "cell_type": "code",
   "execution_count": 52,
   "metadata": {},
   "outputs": [
    {
     "data": {
      "text/plain": [
       "[11, 11, 11, 11, 11, 11, 11, 11, 11, 11, 11, 11, 11, 7, 11]"
      ]
     },
     "execution_count": 52,
     "metadata": {},
     "output_type": "execute_result"
    }
   ],
   "source": [
    "from sklearn.model_selection import train_test_split\n",
    "x_train, x_test, y_train, y_test = train_test_split(corpus_origin, target_label, test_size=0.3, shuffle=True, random_state=0, stratify=target_label)\n",
    "y_train[:15]"
   ]
  },
  {
   "cell_type": "code",
   "execution_count": 53,
   "metadata": {},
   "outputs": [],
   "source": [
    "x_train, x_test, y_train, y_test = x_train[:20], x_test[:20], y_train[:20], y_test[:20]"
   ]
  },
  {
   "cell_type": "code",
   "execution_count": 54,
   "metadata": {},
   "outputs": [
    {
     "data": {
      "text/plain": [
       "[11, 11, 11, 11, 11, 11, 11, 11, 11, 11, 11, 11, 11, 7, 11, 11, 11, 11, 11, 11]"
      ]
     },
     "execution_count": 54,
     "metadata": {},
     "output_type": "execute_result"
    }
   ],
   "source": [
    "y_train"
   ]
  },
  {
   "cell_type": "code",
   "execution_count": 55,
   "metadata": {},
   "outputs": [
    {
     "name": "stderr",
     "output_type": "stream",
     "text": [
      "/usr/local/var/pyenv/versions/3.9.5/envs/search-engine/lib/python3.9/site-packages/transformers/optimization.py:306: FutureWarning: This implementation of AdamW is deprecated and will be removed in a future version. Use the PyTorch implementation torch.optim.AdamW instead, or set `no_deprecation_warning=True` to disable this warning\n",
      "  warnings.warn(\n",
      " 10%|█         | 1/10 [00:09<01:26,  9.58s/it]"
     ]
    },
    {
     "name": "stdout",
     "output_type": "stream",
     "text": [
      "epoch:1, loss:2.680373430252075\n"
     ]
    },
    {
     "name": "stderr",
     "output_type": "stream",
     "text": [
      " 20%|██        | 2/10 [00:18<01:12,  9.04s/it]"
     ]
    },
    {
     "name": "stdout",
     "output_type": "stream",
     "text": [
      "epoch:2, loss:nan\n"
     ]
    },
    {
     "name": "stderr",
     "output_type": "stream",
     "text": [
      " 30%|███       | 3/10 [00:26<01:02,  8.89s/it]"
     ]
    },
    {
     "name": "stdout",
     "output_type": "stream",
     "text": [
      "epoch:3, loss:nan\n"
     ]
    },
    {
     "name": "stderr",
     "output_type": "stream",
     "text": [
      " 40%|████      | 4/10 [00:37<00:57,  9.54s/it]"
     ]
    },
    {
     "name": "stdout",
     "output_type": "stream",
     "text": [
      "epoch:4, loss:nan\n"
     ]
    },
    {
     "name": "stderr",
     "output_type": "stream",
     "text": [
      " 50%|█████     | 5/10 [00:46<00:47,  9.42s/it]"
     ]
    },
    {
     "name": "stdout",
     "output_type": "stream",
     "text": [
      "epoch:5, loss:nan\n"
     ]
    },
    {
     "name": "stderr",
     "output_type": "stream",
     "text": [
      " 60%|██████    | 6/10 [00:54<00:35,  8.89s/it]"
     ]
    },
    {
     "name": "stdout",
     "output_type": "stream",
     "text": [
      "epoch:6, loss:nan\n"
     ]
    },
    {
     "name": "stderr",
     "output_type": "stream",
     "text": [
      " 70%|███████   | 7/10 [01:02<00:25,  8.45s/it]"
     ]
    },
    {
     "name": "stdout",
     "output_type": "stream",
     "text": [
      "epoch:7, loss:nan\n"
     ]
    },
    {
     "name": "stderr",
     "output_type": "stream",
     "text": [
      " 80%|████████  | 8/10 [01:09<00:16,  8.20s/it]"
     ]
    },
    {
     "name": "stdout",
     "output_type": "stream",
     "text": [
      "epoch:8, loss:nan\n"
     ]
    },
    {
     "name": "stderr",
     "output_type": "stream",
     "text": [
      " 90%|█████████ | 9/10 [01:17<00:08,  8.16s/it]"
     ]
    },
    {
     "name": "stdout",
     "output_type": "stream",
     "text": [
      "epoch:9, loss:nan\n"
     ]
    },
    {
     "name": "stderr",
     "output_type": "stream",
     "text": [
      "100%|██████████| 10/10 [01:25<00:00,  8.54s/it]"
     ]
    },
    {
     "name": "stdout",
     "output_type": "stream",
     "text": [
      "epoch:10, loss:nan\n"
     ]
    },
    {
     "name": "stderr",
     "output_type": "stream",
     "text": [
      "\n"
     ]
    }
   ],
   "source": [
    "from transformers import AdamW\n",
    "optimizer = AdamW(model.parameters(), lr=1e-5)\n",
    "model.train()\n",
    "epochs = 10\n",
    "losses = []\n",
    "\n",
    "model.train()\n",
    "#再学習\n",
    "for epoch in tqdm(range(epochs)):\n",
    "    optimizer.zero_grad()\n",
    "    inputs = tokenizer.batch_encode_plus(x_train, return_tensors=\"pt\", padding=True, truncation=True)\n",
    "    outputs = model(**inputs, labels=torch.tensor(y_train))\n",
    "    logits = outputs.logits\n",
    "    loss = outputs.loss\n",
    "    loss.backward()\n",
    "    optimizer.step()\n",
    "    losses.append(loss)\n",
    "    print(f\"epoch:{epoch+1}, loss:{loss}\")"
   ]
  },
  {
   "cell_type": "code",
   "execution_count": 56,
   "metadata": {},
   "outputs": [
    {
     "data": {
      "text/plain": [
       "[<matplotlib.lines.Line2D at 0x154e4aa60>]"
      ]
     },
     "execution_count": 56,
     "metadata": {},
     "output_type": "execute_result"
    },
    {
     "data": {
      "image/png": "[encoded data removed]",
      "text/plain": [
       "<Figure size 432x288 with 1 Axes>"
      ]
     },
     "metadata": {
      "needs_background": "light"
     },
     "output_type": "display_data"
    }
   ],
   "source": [
    "# 学習過程の表示\n",
    "plt.plot(losses)"
   ]
  },
  {
   "cell_type": "code",
   "execution_count": 61,
   "metadata": {},
   "outputs": [
    {
     "name": "stdout",
     "output_type": "stream",
     "text": [
      "AQ定義:プログラム設計\n",
      "AQ定義:プログラム設計\n",
      "AQ定義:プログラム設計\n",
      "AQ定義:プログラム設計\n",
      "AQ定義:プログラム設計\n",
      "AQ定義:プログラム設計\n",
      "AQ定義:プログラム設計\n",
      "AQ定義:プログラム設計\n",
      "AQ定義:プログラム設計\n",
      "AQ定義:プログラム設計\n",
      "AQ定義:画面遷移図\n",
      "AQ定義:プログラム設計\n",
      "AQ定義:プログラム設計\n",
      "AQ定義:プログラム設計\n",
      "AQ定義:プログラム設計\n",
      "AQ定義:画面レイアウト\n",
      "AQ定義:プログラム設計\n",
      "AQ定義:プログラム設計\n",
      "AQ定義:プログラム設計\n",
      "AQ定義:画面遷移図\n"
     ]
    }
   ],
   "source": [
    "model.eval()\n",
    "preds = []\n",
    "with torch.no_grad():\n",
    "    for index, words in enumerate(x_test):\n",
    "        text = \"\".join(words)\n",
    "        inputs = tokenizer.encode(text, return_tensors=\"pt\",padding=True, truncation=True)\n",
    "        outputs = model(inputs)\n",
    "        logits = outputs.logits\n",
    "        pred=logits.argmax(1).item()\n",
    "        preds.append(pred)\n",
    "        #print(f\"{label_dic[logits.argmax(1).item()+1]}:{label_dic[y_test[index]]}, input: {text}, \")\n",
    "        print(f\"{label_dic[logits.argmax(1).item()+1]}:{label_dic[y_test[index]]}\")"
   ]
  },
  {
   "cell_type": "code",
   "execution_count": null,
   "metadata": {},
   "outputs": [],
   "source": []
  }
 ],
 "metadata": {
  "kernelspec": {
   "display_name": "Python 3.9.13 ('nlp')",
   "language": "python",
   "name": "python3"
  },
  "language_info": {
   "codemirror_mode": {
    "name": "ipython",
    "version": 3
   },
   "file_extension": ".py",
   "mimetype": "text/x-python",
   "name": "python",
   "nbconvert_exporter": "python",
   "pygments_lexer": "ipython3",
   "version": "3.9.13"
  },
  "orig_nbformat": 4,
  "vscode": {
   "interpreter": {
    "hash": "5955dc64dc45c9f6ad89241066402e9b90de6090510d28e2354caffb11d22191"
   }
  }
 },
 "nbformat": 4,
 "nbformat_minor": 2
}
